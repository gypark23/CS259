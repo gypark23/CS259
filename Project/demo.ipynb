{
 "cells": [
  {
   "cell_type": "code",
   "execution_count": 15,
   "metadata": {},
   "outputs": [
    {
     "name": "stdout",
     "output_type": "stream",
     "text": [
      "xymPDjjAByaXvUvOnbqmz95U6uRHN3-SZikxczCCGjA=\n",
      "b'61626332323133666277716373'\n"
     ]
    }
   ],
   "source": [
    "import pandas as pd\n",
    "import numpy as np\n",
    "import autodc\n",
    "from cryptography.fernet import Fernet\n",
    "import binascii\n",
    "\n",
    "\n",
    "orig = pd.read_csv(\"loan_data.csv\")\n",
    "data = pd.read_csv(\"loan_data.csv\")\n",
    "data = autodc.deleteEmptyRow(data, columns = [\"principal\"], includeZero=True)\n",
    "\n",
    "data = autodc.encryptCols(data)\n",
    "\n",
    "f = open('key.txt', 'r')\n",
    "key = f.read()\n",
    "f.close()\n",
    "\n",
    "print(key)\n",
    "\n",
    "a = binascii.hexlify(b\"abc2213fbwqcs\")\n",
    "print(a)\n",
    "a = int.from_bytes(a, \"big\")\n",
    "\n",
    "#data = autodc.decryptCols(data, key)"
   ]
  }
 ],
 "metadata": {
  "kernelspec": {
   "display_name": "Python 3.9.12 ('base')",
   "language": "python",
   "name": "python3"
  },
  "language_info": {
   "codemirror_mode": {
    "name": "ipython",
    "version": 3
   },
   "file_extension": ".py",
   "mimetype": "text/x-python",
   "name": "python",
   "nbconvert_exporter": "python",
   "pygments_lexer": "ipython3",
   "version": "3.9.12"
  },
  "orig_nbformat": 4,
  "vscode": {
   "interpreter": {
    "hash": "3d3ca84932549eddfd339c88ab8e4e4987ea4fa718fdf123be75130bce03fcbc"
   }
  }
 },
 "nbformat": 4,
 "nbformat_minor": 2
}
