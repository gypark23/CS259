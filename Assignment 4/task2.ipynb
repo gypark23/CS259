{
 "cells": [
  {
   "cell_type": "code",
   "execution_count": 1,
   "metadata": {},
   "outputs": [],
   "source": [
    "from scipy import stats\n",
    "import numpy as np\n",
    "import matplotlib.pyplot as plt\n",
    "import statsmodels.stats.multitest as sm"
   ]
  },
  {
   "cell_type": "markdown",
   "metadata": {},
   "source": [
    "Average trials until first false-positive"
   ]
  },
  {
   "cell_type": "code",
   "execution_count": 2,
   "metadata": {},
   "outputs": [
    {
     "name": "stdout",
     "output_type": "stream",
     "text": [
      "23.8\n"
     ]
    }
   ],
   "source": [
    "\n",
    "\n",
    "#https://numpy.org/doc/stable/reference/random/generated/numpy.random.normal.html\n",
    "mu, sigma = 8, 2 # mean and standard deviation\n",
    "totalcount = 0\n",
    "n = 30\n",
    "for i in range(20):\n",
    "    s1 = np.random.normal(mu, sigma, n)\n",
    "    s2 = np.random.normal(mu, sigma, n)\n",
    "    count = 1\n",
    "    statistics, pvalue = stats.ttest_ind(s1, s2)\n",
    "    while pvalue > 0.05:\n",
    "        s1 = np.random.normal(mu, sigma, n)\n",
    "        s2 = np.random.normal(mu, sigma, n)\n",
    "        count += 1\n",
    "        statistics, pvalue = stats.ttest_ind(s1, s2)\n",
    "    totalcount += count\n",
    "\n",
    "average = totalcount / 20\n",
    "print(average)"
   ]
  },
  {
   "cell_type": "markdown",
   "metadata": {},
   "source": [
    "Graph differing N"
   ]
  },
  {
   "cell_type": "code",
   "execution_count": 3,
   "metadata": {},
   "outputs": [
    {
     "data": {
      "image/png": "[encoded data removed]",
      "text/plain": [
       "<Figure size 432x288 with 1 Axes>"
      ]
     },
     "metadata": {
      "needs_background": "light"
     },
     "output_type": "display_data"
    }
   ],
   "source": [
    "x_var = []\n",
    "y_var = []\n",
    "\n",
    "for j in range(2,31):\n",
    "    n=j\n",
    "    x_var.append(n)\n",
    "    totalcount = 0\n",
    "    for i in range(1000):\n",
    "        s1 = np.random.normal(mu, sigma, n)\n",
    "        s2 = np.random.normal(mu, sigma, n)\n",
    "        count = 1\n",
    "        statistics, pvalue = stats.ttest_ind(s1, s2)\n",
    "        while pvalue > 0.05:\n",
    "            s1 = np.random.normal(mu, sigma, n)\n",
    "            s2 = np.random.normal(mu, sigma, n)\n",
    "            count = count + 1\n",
    "            statistics, pvalue = stats.ttest_ind(s1, s2)\n",
    "        totalcount += count \n",
    "    average = totalcount / 1000\n",
    "    y_var.append(average)\n",
    "\n",
    "plt.plot(x_var,y_var)\n",
    "plt.show(block = True)"
   ]
  },
  {
   "cell_type": "markdown",
   "metadata": {},
   "source": [
    "Bonferroni"
   ]
  },
  {
   "cell_type": "code",
   "execution_count": 15,
   "metadata": {},
   "outputs": [
    {
     "name": "stdout",
     "output_type": "stream",
     "text": [
      "n: 200 0\n",
      "n: 300 0\n",
      "n: 400 0\n",
      "n: 500 0\n",
      "n: 600 0\n",
      "n: 700 0\n",
      "n: 800 0\n",
      "n: 900 0\n",
      "n: 1000 0\n",
      "n: 1100 0\n",
      "n: 1200 0\n",
      "n: 1300 0\n",
      "n: 1400 0\n",
      "n: 1500 0\n",
      "n: 1600 0\n",
      "n: 1700 0\n",
      "n: 1800 1\n",
      "n: 1900 0\n",
      "n: 2000 0\n",
      "n: 2100 0\n",
      "n: 2200 0\n",
      "n: 2300 0\n",
      "n: 2400 0\n",
      "n: 2500 0\n",
      "n: 2600 0\n",
      "n: 2700 0\n",
      "n: 2800 0\n",
      "n: 2900 0\n",
      "n: 3000 0\n"
     ]
    }
   ],
   "source": [
    "x_var = []\n",
    "y_var = []\n",
    "count = 0\n",
    "for j in range(2, 31):\n",
    "    pvals = []\n",
    "    n = j * 100\n",
    "    x_var.append(n)\n",
    "    for i in range(1000):\n",
    "        s1 = np.random.normal(mu, sigma, n)\n",
    "        s2 = np.random.normal(mu, sigma, n)\n",
    "        statistics, pvalue = stats.ttest_ind(s1, s2)\n",
    "        pvals.append(pvalue)\n",
    "    bonferroni = sm.multipletests(pvals, alpha = 0.05, method='bonferroni')[0]\n",
    "    bonferroni_pvals = sm.multipletests(pvals, alpha = 0.05, method='bonferroni')[1]\n",
    "    print(\"n: \" + str(n) + \" \" + str(np.count_nonzero(bonferroni == True)))"
   ]
  },
  {
   "cell_type": "markdown",
   "metadata": {},
   "source": [
    "Holm"
   ]
  },
  {
   "cell_type": "code",
   "execution_count": 16,
   "metadata": {},
   "outputs": [
    {
     "name": "stdout",
     "output_type": "stream",
     "text": [
      "n: 2000 0\n",
      "n: 3000 0\n",
      "n: 4000 0\n",
      "n: 5000 0\n",
      "n: 6000 0\n",
      "n: 7000 1\n",
      "n: 8000 0\n",
      "n: 9000 0\n",
      "n: 10000 0\n",
      "n: 11000 0\n",
      "n: 12000 0\n",
      "n: 13000 0\n",
      "n: 14000 0\n",
      "n: 15000 0\n",
      "n: 16000 0\n",
      "n: 17000 0\n",
      "n: 18000 0\n",
      "n: 19000 0\n",
      "n: 20000 0\n",
      "n: 21000 0\n",
      "n: 22000 0\n",
      "n: 23000 0\n",
      "n: 24000 0\n",
      "n: 25000 0\n",
      "n: 26000 0\n",
      "n: 27000 0\n",
      "n: 28000 0\n",
      "n: 29000 0\n",
      "n: 30000 0\n"
     ]
    }
   ],
   "source": [
    "x_var = []\n",
    "y_var = []\n",
    "count = 0\n",
    "for j in range(2, 31):\n",
    "    pvals = []\n",
    "    n = j * 1000\n",
    "    x_var.append(n)\n",
    "    for i in range(1000):\n",
    "        s1 = np.random.normal(mu, sigma, n)\n",
    "        s2 = np.random.normal(mu, sigma, n)\n",
    "        statistics, pvalue = stats.ttest_ind(s1, s2)\n",
    "        pvals.append(pvalue)\n",
    "    holm = sm.multipletests(pvals, alpha = 0.05, method='holm')[0]\n",
    "    holm_pvals = sm.multipletests(pvals, alpha = 0.05, method='holm')[1]\n",
    "    print(\"n: \" + str(n) + \" \" + str(np.count_nonzero(holm == True)))"
   ]
  },
  {
   "cell_type": "markdown",
   "metadata": {},
   "source": [
    "Benjamini-Hochberg"
   ]
  },
  {
   "cell_type": "code",
   "execution_count": 17,
   "metadata": {},
   "outputs": [
    {
     "name": "stdout",
     "output_type": "stream",
     "text": [
      "n: 2000 0\n",
      "n: 3000 0\n",
      "n: 4000 0\n",
      "n: 5000 0\n",
      "n: 6000 0\n",
      "n: 7000 0\n",
      "n: 8000 0\n",
      "n: 9000 0\n",
      "n: 10000 0\n",
      "n: 11000 0\n",
      "n: 12000 0\n",
      "n: 13000 0\n",
      "n: 14000 0\n",
      "n: 15000 0\n",
      "n: 16000 0\n",
      "n: 17000 0\n",
      "n: 18000 0\n",
      "n: 19000 0\n",
      "n: 20000 0\n",
      "n: 21000 0\n",
      "n: 22000 0\n",
      "n: 23000 0\n",
      "n: 24000 0\n",
      "n: 25000 0\n",
      "n: 26000 0\n",
      "n: 27000 0\n",
      "n: 28000 0\n",
      "n: 29000 1\n",
      "n: 30000 0\n"
     ]
    }
   ],
   "source": [
    "x_var = []\n",
    "y_var = []\n",
    "count = 0\n",
    "for j in range(2, 31):\n",
    "    pvals = []\n",
    "    n = j * 1000\n",
    "    x_var.append(n)\n",
    "    for i in range(1000):\n",
    "        s1 = np.random.normal(mu, sigma, n)\n",
    "        s2 = np.random.normal(mu, sigma, n)\n",
    "        statistics, pvalue = stats.ttest_ind(s1, s2)\n",
    "        pvals.append(pvalue)\n",
    "    benjamini = sm.multipletests(pvals, alpha = 0.05, method='fdr_by')[0]\n",
    "    benjamini_pvals = sm.multipletests(pvals, alpha = 0.05, method='fdr_by')[1]\n",
    "    print(\"n: \" + str(n) + \" \" + str(np.count_nonzero(benjamini == True)))"
   ]
  },
  {
   "cell_type": "markdown",
   "metadata": {},
   "source": [
    "Two normal distributions with means 7 and 9 and standard deviation 1.5"
   ]
  },
  {
   "cell_type": "code",
   "execution_count": 64,
   "metadata": {},
   "outputs": [
    {
     "name": "stdout",
     "output_type": "stream",
     "text": [
      "1029.75\n"
     ]
    }
   ],
   "source": [
    "s1 = np.random.normal(7, 1.5, 30)\n",
    "s2 = np.random.normal(9, 1.5, 30)\n",
    "totalcount = 0\n",
    "for i in range(20):\n",
    "    s1 = np.random.normal(7, 1.5, 30)\n",
    "    s2 = np.random.normal(9, 1.5, 30)\n",
    "    count = 1\n",
    "    statistics, pvalue = stats.ttest_ind(s1, s2)\n",
    "    while pvalue < 0.05:\n",
    "        s1 = np.random.normal(7, 1.5, 30)\n",
    "        s2 = np.random.normal(9, 1.5, 30)\n",
    "        count += 1\n",
    "        statistics, pvalue = stats.ttest_ind(s1, s2)\n",
    "    totalcount += count\n",
    "\n",
    "average = totalcount / 20\n",
    "print(average)"
   ]
  },
  {
   "cell_type": "markdown",
   "metadata": {},
   "source": [
    "Vary N"
   ]
  },
  {
   "cell_type": "code",
   "execution_count": 78,
   "metadata": {},
   "outputs": [
    {
     "name": "stdout",
     "output_type": "stream",
     "text": [
      "1\n",
      "2\n",
      "3\n",
      "4\n",
      "5\n",
      "6\n",
      "7\n",
      "8\n",
      "9\n",
      "10\n",
      "11\n",
      "12\n",
      "13\n",
      "14\n",
      "15\n",
      "16\n",
      "17\n",
      "18\n",
      "19\n",
      "20\n",
      "21\n",
      "22\n",
      "23\n",
      "24\n",
      "25\n",
      "26\n",
      "27\n",
      "28\n",
      "29\n"
     ]
    },
    {
     "data": {
      "image/png": "[encoded data removed]",
      "text/plain": [
       "<Figure size 432x288 with 1 Axes>"
      ]
     },
     "metadata": {
      "needs_background": "light"
     },
     "output_type": "display_data"
    }
   ],
   "source": [
    "x_var = []\n",
    "y_var = []\n",
    "\n",
    "for j in range(1,30):\n",
    "    n = j\n",
    "    print(n)\n",
    "    x_var.append(n)\n",
    "    totalcount = 0\n",
    "    for i in range(10):\n",
    "        s1 = np.random.normal(7, 1.5, n)\n",
    "        s2 = np.random.normal(9, 1.5, n)\n",
    "        count = 1\n",
    "        statistics, pvalue = stats.ttest_ind(s1, s2)\n",
    "        while pvalue < 0.05:\n",
    "            s1 = np.random.normal(7, 1.5, n)\n",
    "            s2 = np.random.normal(9, 1.5, n)\n",
    "            count = count + 1\n",
    "            statistics, pvalue = stats.ttest_ind(s1, s2)\n",
    "        totalcount += count \n",
    "    average = totalcount / 10\n",
    "    y_var.append(average)\n",
    "\n",
    "plt.plot(x_var,y_var)\n",
    "plt.show(block = True)"
   ]
  },
  {
   "cell_type": "markdown",
   "metadata": {},
   "source": [
    "Bonferroni False Negative"
   ]
  },
  {
   "cell_type": "code",
   "execution_count": 87,
   "metadata": {},
   "outputs": [
    {
     "name": "stdout",
     "output_type": "stream",
     "text": [
      "n: 1 1000\n",
      "n: 2 1000\n",
      "n: 3 999\n",
      "n: 4 1000\n",
      "n: 5 998\n",
      "n: 6 995\n",
      "n: 7 991\n",
      "n: 8 986\n",
      "n: 9 964\n",
      "n: 10 956\n",
      "n: 11 937\n",
      "n: 12 918\n",
      "n: 13 880\n",
      "n: 14 876\n",
      "n: 15 830\n",
      "n: 16 780\n",
      "n: 17 753\n",
      "n: 18 658\n",
      "n: 19 671\n",
      "n: 20 617\n",
      "n: 21 570\n",
      "n: 22 512\n",
      "n: 23 464\n",
      "n: 24 441\n",
      "n: 25 387\n",
      "n: 26 381\n",
      "n: 27 333\n",
      "n: 28 303\n",
      "n: 29 242\n"
     ]
    }
   ],
   "source": [
    "x_var = []\n",
    "y_var = []\n",
    "count = 0\n",
    "for j in range(1, 30):\n",
    "    pvals = []\n",
    "    n = j\n",
    "    x_var.append(n)\n",
    "    for i in range(1000):\n",
    "        s1 = np.random.normal(7, 1.5, n)\n",
    "        s2 = np.random.normal(9, 1.5, n)\n",
    "        statistics, pvalue = stats.ttest_ind(s1, s2)\n",
    "        pvals.append(pvalue)\n",
    "    bonferroni = sm.multipletests(pvals, alpha = 0.05, method='bonferroni')[0]\n",
    "    bonferroni_pvals = sm.multipletests(pvals, alpha = 0.05, method='bonferroni')[1]\n",
    "    #count how many false negatives for each n\n",
    "    print(\"n: \" + str(n) + \" \" + str(np.count_nonzero(bonferroni == False)))"
   ]
  },
  {
   "cell_type": "markdown",
   "metadata": {},
   "source": [
    "Holm False Negative"
   ]
  },
  {
   "cell_type": "code",
   "execution_count": 88,
   "metadata": {},
   "outputs": [
    {
     "name": "stdout",
     "output_type": "stream",
     "text": [
      "n: 1 0\n",
      "n: 2 1000\n",
      "n: 3 999\n",
      "n: 4 1000\n",
      "n: 5 998\n",
      "n: 6 995\n",
      "n: 7 988\n",
      "n: 8 985\n",
      "n: 9 965\n",
      "n: 10 952\n",
      "n: 11 925\n",
      "n: 12 904\n",
      "n: 13 869\n",
      "n: 14 820\n",
      "n: 15 815\n",
      "n: 16 743\n",
      "n: 17 752\n",
      "n: 18 667\n",
      "n: 19 635\n",
      "n: 20 543\n",
      "n: 21 485\n",
      "n: 22 425\n",
      "n: 23 403\n",
      "n: 24 317\n",
      "n: 25 236\n",
      "n: 26 179\n",
      "n: 27 150\n",
      "n: 28 154\n",
      "n: 29 75\n"
     ]
    }
   ],
   "source": [
    "x_var = []\n",
    "y_var = []\n",
    "count = 0\n",
    "for j in range(1, 30):\n",
    "    pvals = []\n",
    "    n = j\n",
    "    x_var.append(n)\n",
    "    for i in range(1000):\n",
    "        s1 = np.random.normal(7, 1.5, n)\n",
    "        s2 = np.random.normal(9, 1.5, n)\n",
    "        statistics, pvalue = stats.ttest_ind(s1, s2)\n",
    "        pvals.append(pvalue)\n",
    "    holm = sm.multipletests(pvals, alpha = 0.05, method='holm')[0]\n",
    "    holm_pvals = sm.multipletests(pvals, alpha = 0.05, method='holm')[1]\n",
    "    #count how many false negatives for each n\n",
    "    print(\"n: \" + str(n) + \" \" + str(np.count_nonzero(holm == False)))"
   ]
  },
  {
   "cell_type": "markdown",
   "metadata": {},
   "source": [
    "Benjamini-Hochberg False Negatives"
   ]
  },
  {
   "cell_type": "code",
   "execution_count": 89,
   "metadata": {},
   "outputs": [
    {
     "name": "stdout",
     "output_type": "stream",
     "text": [
      "n: 1 1000\n",
      "n: 2 999\n",
      "n: 3 1000\n",
      "n: 4 936\n",
      "n: 5 827\n",
      "n: 6 716\n",
      "n: 7 503\n",
      "n: 8 367\n",
      "n: 9 302\n",
      "n: 10 226\n",
      "n: 11 169\n",
      "n: 12 128\n",
      "n: 13 126\n",
      "n: 14 76\n",
      "n: 15 69\n",
      "n: 16 51\n",
      "n: 17 36\n",
      "n: 18 20\n",
      "n: 19 29\n",
      "n: 20 20\n",
      "n: 21 9\n",
      "n: 22 18\n",
      "n: 23 7\n",
      "n: 24 3\n",
      "n: 25 3\n",
      "n: 26 1\n",
      "n: 27 5\n",
      "n: 28 4\n",
      "n: 29 2\n"
     ]
    }
   ],
   "source": [
    "x_var = []\n",
    "y_var = []\n",
    "count = 0\n",
    "for j in range(1, 30):\n",
    "    pvals = []\n",
    "    n = j\n",
    "    x_var.append(n)\n",
    "    for i in range(1000):\n",
    "        s1 = np.random.normal(7, 1.5, n)\n",
    "        s2 = np.random.normal(9, 1.5, n)\n",
    "        statistics, pvalue = stats.ttest_ind(s1, s2)\n",
    "        pvals.append(pvalue)\n",
    "    benjamini = sm.multipletests(pvals, alpha = 0.05, method='fdr_bh')[0]\n",
    "    benjamini_pvals = sm.multipletests(pvals, alpha = 0.05, method='fdr_bh')[1]\n",
    "    #count how many false negatives for each n\n",
    "    print(\"n: \" + str(n) + \" \" + str(np.count_nonzero(benjamini == False)))"
   ]
  }
 ],
 "metadata": {
  "interpreter": {
   "hash": "aee8b7b246df8f9039afb4144a1f6fd8d2ca17a180786b69acc140d282b71a49"
  },
  "kernelspec": {
   "display_name": "Python 3.10.4 64-bit",
   "language": "python",
   "name": "python3"
  },
  "language_info": {
   "codemirror_mode": {
    "name": "ipython",
    "version": 3
   },
   "file_extension": ".py",
   "mimetype": "text/x-python",
   "name": "python",
   "nbconvert_exporter": "python",
   "pygments_lexer": "ipython3",
   "version": "3.9.12"
  },
  "orig_nbformat": 4
 },
 "nbformat": 4,
 "nbformat_minor": 2
}
