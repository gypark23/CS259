{
 "cells": [
  {
   "cell_type": "markdown",
   "metadata": {},
   "source": [
    "Build a ML MOdel to predict price of Chicago AirBnB Rentals"
   ]
  },
  {
   "cell_type": "code",
   "execution_count": 709,
   "metadata": {},
   "outputs": [
    {
     "name": "stdout",
     "output_type": "stream",
     "text": [
      "RMS: price    93.894215\n",
      "dtype: float64\n"
     ]
    },
    {
     "name": "stderr",
     "output_type": "stream",
     "text": [
      "/Users/kyuyoungpark/opt/anaconda3/lib/python3.9/site-packages/numpy/core/fromnumeric.py:3438: FutureWarning: In a future version, DataFrame.mean(axis=None) will return a scalar mean over the entire DataFrame. To retain the old behavior, use 'frame.mean(axis=0)' or just 'frame.mean()'\n",
      "  return mean(axis=axis, dtype=dtype, out=out, **kwargs)\n"
     ]
    }
   ],
   "source": [
    "import pandas as pd\n",
    "import numpy as np\n",
    "from sklearn.model_selection import train_test_split\n",
    "from sklearn.linear_model import LinearRegression\n",
    "data = pd.read_csv(\"listings.csv\")\n",
    "\n",
    "#remove outliers\n",
    "data = data[data.price <= 1000]\n",
    "data = data[data.price >= 20]\n",
    "\n",
    "\n",
    "xvar = data[['neighbourhood', 'latitude', 'longitude', 'room_type', 'availability_365']]\n",
    "#xvar = data[['neighbourhood', 'latitude', 'longitude', 'room_type', 'minimum_nights', 'number_of_reviews', 'reviews_per_month', 'calculated_host_listings_count', 'availability_365']]\n",
    "#xvar = data[['room_type', 'neighbourhood']]\n",
    "\n",
    "#dummy variable for neighbourhood and room_type\n",
    "xvar = pd.get_dummies(xvar, columns=['neighbourhood', 'room_type'])\n",
    "#xvar = pd.get_dummies(xvar, columns=['room_type'])\n",
    "\n",
    "#fill in 0 to nan in reviews_per_month\n",
    "#xvar['reviews_per_month'] = xvar['reviews_per_month'].fillna(0)\n",
    "\n",
    "\n",
    "yvar = data[['price']]\n",
    "\n",
    "x_train, x_test, y_train, y_test = train_test_split(xvar, yvar, test_size=0.2)\n",
    "\n",
    "\n",
    "clf = LinearRegression()\n",
    "clf.fit(x_train, y_train)\n",
    "y_pred = clf.predict(x_test)\n",
    "\n",
    "#http://scipy-lectures.org/packages/scikit-learn/index.html#supervised-learning-regression-of-housing-data\n",
    "from sklearn import metrics\n",
    "print(\"RMS: %s\" % np.sqrt(np.mean((y_pred - y_test) ** 2))) "
   ]
  },
  {
   "cell_type": "markdown",
   "metadata": {},
   "source": [
    "Calculate feature importance"
   ]
  },
  {
   "cell_type": "code",
   "execution_count": 710,
   "metadata": {},
   "outputs": [
    {
     "name": "stdout",
     "output_type": "stream",
     "text": [
      "Feature: 0, Score: 436.42085\n",
      "Feature: 1, Score: 588.83547\n",
      "Feature: 2, Score: 0.04587\n",
      "Feature: 3, Score: -29.25935\n",
      "Feature: 4, Score: 31.83285\n",
      "Feature: 5, Score: 24.63059\n",
      "Feature: 6, Score: 28.46100\n",
      "Feature: 7, Score: 75.85982\n",
      "Feature: 8, Score: 34.77105\n",
      "Feature: 9, Score: -16.34625\n",
      "Feature: 10, Score: -13.52922\n",
      "Feature: 11, Score: 8.22912\n",
      "Feature: 12, Score: 34.21978\n",
      "Feature: 13, Score: -13.16792\n",
      "Feature: 14, Score: 29.72493\n",
      "Feature: 15, Score: 44.60839\n",
      "Feature: 16, Score: -27.68781\n",
      "Feature: 17, Score: -38.00299\n",
      "Feature: 18, Score: 1.19102\n",
      "Feature: 19, Score: 45.95961\n",
      "Feature: 20, Score: 10.41966\n",
      "Feature: 21, Score: 22.46708\n",
      "Feature: 22, Score: -16.33952\n",
      "Feature: 23, Score: -93.19850\n",
      "Feature: 24, Score: -53.10336\n",
      "Feature: 25, Score: -18.04692\n",
      "Feature: 26, Score: -0.57233\n",
      "Feature: 27, Score: -18.60222\n",
      "Feature: 28, Score: -57.93929\n",
      "Feature: 29, Score: 13.91991\n",
      "Feature: 30, Score: 28.25613\n",
      "Feature: 31, Score: -0.06444\n",
      "Feature: 32, Score: -10.18890\n",
      "Feature: 33, Score: -4.87154\n",
      "Feature: 34, Score: -40.28167\n",
      "Feature: 35, Score: -23.24018\n",
      "Feature: 36, Score: -37.64371\n",
      "Feature: 37, Score: -23.66143\n",
      "Feature: 38, Score: -10.05405\n",
      "Feature: 39, Score: 21.46457\n",
      "Feature: 40, Score: -13.98258\n",
      "Feature: 41, Score: 0.73433\n",
      "Feature: 42, Score: -61.47029\n",
      "Feature: 43, Score: 2.84123\n",
      "Feature: 44, Score: 5.54453\n",
      "Feature: 45, Score: -22.75738\n",
      "Feature: 46, Score: -29.09196\n",
      "Feature: 47, Score: 25.64414\n",
      "Feature: 48, Score: 36.16902\n",
      "Feature: 49, Score: 34.95272\n",
      "Feature: 50, Score: 7.42397\n",
      "Feature: 51, Score: 8.29211\n",
      "Feature: 52, Score: 6.84214\n",
      "Feature: 53, Score: -17.67245\n",
      "Feature: 54, Score: 0.05665\n",
      "Feature: 55, Score: -17.03889\n",
      "Feature: 56, Score: -25.73645\n",
      "Feature: 57, Score: -10.68380\n",
      "Feature: 58, Score: 25.74211\n",
      "Feature: 59, Score: 11.62184\n",
      "Feature: 60, Score: 3.54268\n",
      "Feature: 61, Score: -4.21857\n",
      "Feature: 62, Score: 67.77023\n",
      "Feature: 63, Score: -59.67635\n",
      "Feature: 64, Score: 26.55126\n",
      "Feature: 65, Score: 48.20127\n",
      "Feature: 66, Score: -5.38706\n",
      "Feature: 67, Score: -26.46069\n",
      "Feature: 68, Score: -35.61156\n",
      "Feature: 69, Score: -4.94718\n",
      "Feature: 70, Score: 55.65767\n",
      "Feature: 71, Score: 28.92136\n",
      "Feature: 72, Score: 0.00000\n",
      "Feature: 73, Score: 21.80897\n",
      "Feature: 74, Score: 10.75253\n",
      "Feature: 75, Score: 30.38895\n",
      "Feature: 76, Score: 57.00043\n",
      "Feature: 77, Score: -68.86352\n",
      "Feature: 78, Score: 10.89652\n",
      "Feature: 79, Score: -33.97185\n",
      "Feature: 80, Score: 58.93515\n",
      "Feature: 81, Score: -12.79564\n",
      "Feature: 82, Score: -16.83609\n",
      "Feature: 83, Score: -29.30342\n",
      "Top 3 Features\n",
      "longitude\n",
      "latitude\n",
      "neighbourhood_Auburn Gresham\n"
     ]
    }
   ],
   "source": [
    "importance = clf.coef_[0]\n",
    "idx = (-importance).argsort()[:3]\n",
    "#https://machinelearningmastery.com/calculate-feature-importance-with-python/\n",
    "for i,v in enumerate(importance):\n",
    "    print('Feature: %0d, Score: %.5f' % (i,v))\n",
    "\n",
    "print(\"Top 3 Features\")\n",
    "for index in idx:\n",
    "    print(x_test.columns[index])"
   ]
  }
 ],
 "metadata": {
  "interpreter": {
   "hash": "3d3ca84932549eddfd339c88ab8e4e4987ea4fa718fdf123be75130bce03fcbc"
  },
  "kernelspec": {
   "display_name": "Python 3.9.12 ('base')",
   "language": "python",
   "name": "python3"
  },
  "language_info": {
   "name": "python",
   "version": "3.9.12"
  },
  "orig_nbformat": 4
 },
 "nbformat": 4,
 "nbformat_minor": 2
}
