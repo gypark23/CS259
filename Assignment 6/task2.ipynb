{
 "cells": [
  {
   "cell_type": "code",
   "execution_count": 1,
   "metadata": {},
   "outputs": [
    {
     "name": "stdout",
     "output_type": "stream",
     "text": [
      "Accuracy: 0.8176694845019061\n",
      "Precision: 0.6248285322359396\n",
      "Recall: 0.6222677595628415\n",
      "F1 Score: 0.623545516769336\n"
     ]
    }
   ],
   "source": [
    "import pandas as pd\n",
    "income_data = pd.read_csv(\"income.csv\")\n",
    "\n",
    "#delete all ?s\n",
    "income_data = income_data[income_data['workclass'] != \" ?\"]\n",
    "income_data = income_data[income_data['occupation'] != \" ?\"]\n",
    "income_data = income_data[income_data['native-country'] != \" ?\"]\n",
    "\n",
    "xvar = income_data[['age', 'workclass', 'fnlwght', 'education', 'education-num', 'marital-status', 'occupation', 'relationship', 'race', 'sex', 'capital-gain', 'capital-loss', 'hours-per-week', 'native-country']]\n",
    "\n",
    "#dummy variables\n",
    "xvar = pd.get_dummies(xvar, columns=['workclass', 'education', 'marital-status', 'occupation', 'relationship', 'race', 'sex', 'native-country'])\n",
    "\n",
    "yvar = income_data['income']\n",
    "yvar = yvar.apply(lambda x: 0 if x == \" <=50K\" else 1)\n",
    "\n",
    "from sklearn.model_selection import train_test_split\n",
    "x_train, x_test, y_train, y_test = train_test_split(xvar, yvar, test_size=0.2)\n",
    "\n",
    "from sklearn import tree\n",
    "clf = tree.DecisionTreeClassifier()\n",
    "clf = clf.fit(x_train, y_train)\n",
    "\n",
    "y_pred = clf.predict(x_test)\n",
    "from sklearn import metrics\n",
    "print(\"Accuracy:\" , metrics.accuracy_score(y_test, y_pred))\n",
    "print(\"Precision:\",metrics.precision_score(y_test, y_pred))\n",
    "print(\"Recall:\",metrics.recall_score(y_test, y_pred))\n",
    "print(\"F1 Score:\", metrics.f1_score(y_test, y_pred))\n",
    "\n",
    "#visualize tree\n",
    "text_representation = tree.export_text(clf)\n",
    "with open(\"decision_tree.log\", \"w\") as fout:\n",
    "    fout.write(text_representation)\n",
    "text_representation_trunc = tree.export_text(clf, max_depth = 3)\n",
    "with open(\"decision_tree_trunc.log\", \"w\") as fout:\n",
    "    fout.write(text_representation_trunc)"
   ]
  },
  {
   "cell_type": "markdown",
   "metadata": {},
   "source": [
    "Build a Fair (I think) Model"
   ]
  },
  {
   "cell_type": "code",
   "execution_count": 4,
   "metadata": {},
   "outputs": [
    {
     "name": "stdout",
     "output_type": "stream",
     "text": [
      "Accuracy: 0.7754019559091663\n",
      "Precision: 0.548941798941799\n",
      "Recall: 0.552228875582169\n",
      "F1 Score: 0.5505804311774462\n"
     ]
    }
   ],
   "source": [
    "xvar = income_data[['age', 'workclass', 'fnlwght', 'education', 'education-num', 'occupation', 'capital-gain', 'capital-loss', 'hours-per-week']]\n",
    "\n",
    "#dummy variables\n",
    "xvar = pd.get_dummies(xvar, columns=['workclass', 'education', 'occupation'])\n",
    "\n",
    "yvar = income_data['income']\n",
    "yvar = yvar.apply(lambda x: 0 if x == \" <=50K\" else 1)\n",
    "\n",
    "from sklearn.model_selection import train_test_split\n",
    "x_train, x_test, y_train, y_test = train_test_split(xvar, yvar, test_size=0.2)\n",
    "\n",
    "from sklearn import tree\n",
    "clf = tree.DecisionTreeClassifier()\n",
    "clf = clf.fit(x_train, y_train)\n",
    "\n",
    "y_pred = clf.predict(x_test)\n",
    "from sklearn import metrics\n",
    "print(\"Accuracy:\" , metrics.accuracy_score(y_test, y_pred))\n",
    "print(\"Precision:\",metrics.precision_score(y_test, y_pred))\n",
    "print(\"Recall:\",metrics.recall_score(y_test, y_pred))\n",
    "print(\"F1 Score:\", metrics.f1_score(y_test, y_pred))"
   ]
  },
  {
   "cell_type": "markdown",
   "metadata": {},
   "source": [
    "False Positive Calculation"
   ]
  },
  {
   "cell_type": "code",
   "execution_count": 12,
   "metadata": {},
   "outputs": [
    {
     "data": {
      "image/png": "[encoded data removed]",
      "text/plain": [
       "<Figure size 432x288 with 1 Axes>"
      ]
     },
     "metadata": {
      "needs_background": "light"
     },
     "output_type": "display_data"
    },
    {
     "data": {
      "image/png": "[encoded data removed]",
      "text/plain": [
       "<Figure size 432x288 with 1 Axes>"
      ]
     },
     "metadata": {
      "needs_background": "light"
     },
     "output_type": "display_data"
    }
   ],
   "source": [
    "i = 0\n",
    "negative_amer = 0\n",
    "fp_amer = 0\n",
    "negative_asian = 0\n",
    "fp_asian = 0\n",
    "negative_black = 0\n",
    "fp_black = 0\n",
    "negative_white = 0\n",
    "fp_white = 0\n",
    "negative_other = 0\n",
    "fp_other = 0\n",
    "negative_male = 0\n",
    "fp_male = 0\n",
    "negative_female = 0\n",
    "fp_female = 0\n",
    "\n",
    "for index, row in y_test.items():\n",
    "    if(income_data.at[index, 'race'] == ' Amer-Indian-Eskimo'):\n",
    "        if(not row):\n",
    "            negative_amer += 1\n",
    "            if(y_pred[i]):\n",
    "                fp_amer += 1\n",
    "    if(income_data.at[index, 'race'] == ' Asian-Pac-Islander'):\n",
    "        if(not row):\n",
    "            negative_asian += 1\n",
    "            if(y_pred[i]):\n",
    "                fp_asian += 1\n",
    "    if(income_data.at[index, 'race'] == ' Black'):\n",
    "        if(not row):\n",
    "            negative_black += 1\n",
    "            if(y_pred[i]):\n",
    "                fp_black += 1\n",
    "    if(income_data.at[index, 'race'] == ' White'):\n",
    "        if(not row):\n",
    "            negative_white += 1\n",
    "            if(y_pred[i]):\n",
    "                fp_white += 1\n",
    "    if(income_data.at[index, 'race'] == ' Other'):\n",
    "        if(not row):\n",
    "            negative_other += 1\n",
    "            if(y_pred[i]):\n",
    "                fp_other += 1\n",
    "    if(income_data.at[index, 'sex'] == ' Male'):\n",
    "        if(not row):\n",
    "            negative_male += 1\n",
    "            if(y_pred[i]):\n",
    "                fp_male += 1\n",
    "    if(income_data.at[index, 'sex'] == ' Female'):\n",
    "        if(not row):\n",
    "            negative_female += 1\n",
    "            if(y_pred[i]):\n",
    "                fp_female += 1\n",
    "    \n",
    "\n",
    "    i += 1\n",
    "\n",
    "xplot = ['Amer-Indian-Eskimo', 'Asian-Pac-Islander', 'Black', 'White', 'Other']\n",
    "yplot = [fp_amer/negative_amer, fp_asian/negative_asian, fp_black/negative_black, fp_white/negative_white, fp_other/negative_other]\n",
    "import matplotlib.pyplot as plt\n",
    "plt.bar(xplot, yplot)\n",
    "plt.xticks(rotation=90)\n",
    "plt.title(\"False Positive Rate by Ethnicity\")\n",
    "plt.show()\n",
    "\n",
    "xplot = ['Male', 'Female']\n",
    "yplot = [fp_male/negative_male, fp_female/negative_female]\n",
    "plt.bar(xplot, yplot)\n",
    "plt.xticks(rotation=90)\n",
    "plt.title(\"False Positive Rate by Gender\")\n",
    "plt.show()"
   ]
  },
  {
   "cell_type": "markdown",
   "metadata": {},
   "source": [
    "False Negative Rate"
   ]
  },
  {
   "cell_type": "code",
   "execution_count": 14,
   "metadata": {},
   "outputs": [
    {
     "data": {
      "image/png": "[encoded data removed]",
      "text/plain": [
       "<Figure size 432x288 with 1 Axes>"
      ]
     },
     "metadata": {
      "needs_background": "light"
     },
     "output_type": "display_data"
    },
    {
     "data": {
      "image/png": "[encoded data removed]",
      "text/plain": [
       "<Figure size 432x288 with 1 Axes>"
      ]
     },
     "metadata": {
      "needs_background": "light"
     },
     "output_type": "display_data"
    }
   ],
   "source": [
    "i = 0\n",
    "positive_amer = 0\n",
    "fn_amer = 0\n",
    "positive_asian = 0\n",
    "fn_asian = 0\n",
    "positive_black = 0\n",
    "fn_black = 0\n",
    "positive_white = 0\n",
    "fn_white = 0\n",
    "positive_other = 0\n",
    "fn_other = 0\n",
    "positive_male = 0\n",
    "fn_male = 0\n",
    "positive_female = 0\n",
    "fn_female = 0\n",
    "\n",
    "for index, row in y_test.items():\n",
    "    if(income_data.at[index, 'race'] == ' Amer-Indian-Eskimo'):\n",
    "        if(row):\n",
    "            positive_amer += 1\n",
    "            if(not y_pred[i]):\n",
    "                fn_amer += 1\n",
    "    if(income_data.at[index, 'race'] == ' Asian-Pac-Islander'):\n",
    "        if(row):\n",
    "            positive_asian += 1\n",
    "            if(not y_pred[i]):\n",
    "                fn_asian += 1\n",
    "    if(income_data.at[index, 'race'] == ' Black'):\n",
    "        if(row):\n",
    "            positive_black += 1\n",
    "            if(not y_pred[i]):\n",
    "                fn_black += 1\n",
    "    if(income_data.at[index, 'race'] == ' White'):\n",
    "        if(row):\n",
    "            positive_white += 1\n",
    "            if(not y_pred[i]):\n",
    "                fn_white += 1\n",
    "    if(income_data.at[index, 'race'] == ' Other'):\n",
    "        if(row):\n",
    "            positive_other += 1\n",
    "            if(not y_pred[i]):\n",
    "                fn_other += 1\n",
    "    if(income_data.at[index, 'sex'] == ' Male'):\n",
    "        if(row):\n",
    "            positive_male += 1\n",
    "            if(not y_pred[i]):\n",
    "                fn_male += 1\n",
    "    if(income_data.at[index, 'sex'] == ' Female'):\n",
    "        if(row):\n",
    "            positive_female += 1\n",
    "            if(not y_pred[i]):\n",
    "                fn_female += 1\n",
    "    \n",
    "\n",
    "    i += 1\n",
    "\n",
    "xplot = ['Amer-Indian-Eskimo', 'Asian-Pac-Islander', 'Black', 'White', 'Other']\n",
    "yplot = [fn_amer/positive_amer, fn_asian/positive_asian, fn_black/positive_black, fn_white/positive_white, fn_other/positive_other]\n",
    "import matplotlib.pyplot as plt\n",
    "plt.bar(xplot, yplot)\n",
    "plt.xticks(rotation=90)\n",
    "plt.title(\"False Negative Rate by Ethnicity\")\n",
    "plt.show()\n",
    "\n",
    "xplot = ['Male', 'Female']\n",
    "yplot = [fn_male/positive_male, fn_female/positive_female]\n",
    "plt.bar(xplot, yplot)\n",
    "plt.xticks(rotation=90)\n",
    "plt.title(\"False Negative Rate by Gender\")\n",
    "plt.show()"
   ]
  },
  {
   "cell_type": "markdown",
   "metadata": {},
   "source": [
    "Calculate disparate impact"
   ]
  },
  {
   "cell_type": "code",
   "execution_count": 33,
   "metadata": {},
   "outputs": [
    {
     "name": "stdout",
     "output_type": "stream",
     "text": [
      "Disparate Impact for Amer-Indian-Eskimo: 0.746631736526946\n",
      "Disparate Impact for Asian-Pac-Islander: 1.4683070084927374\n",
      "Disparate Impact for Black: 0.819533490535976\n",
      "Disparate Impact for Other: 0.9975083056478404\n",
      "Disparate Impact for White: 4.879116358852232\n",
      "Disparate Impact for Female: 0.7631323011215347\n",
      "Disparate Impact for Male: 3.8730926860025217\n"
     ]
    }
   ],
   "source": [
    "sexarr = []\n",
    "racearr = []\n",
    "\n",
    "for index, row in y_test.items():\n",
    "    sexarr.append(income_data.at[index, 'sex'])\n",
    "    racearr.append(income_data.at[index, 'race'])\n",
    "\n",
    "preddf = pd.DataFrame({'race' : racearr, 'sex' : sexarr, 'income' : y_pred})\n",
    "\n",
    "racegroup = preddf.groupby('race')['income'].value_counts()\n",
    "sexgroup = preddf.groupby('sex')['income'].value_counts()\n",
    "\n",
    "\n",
    "totalmember_race = racegroup.sum()\n",
    "totalpositive_race = sum(racegroup[1::2])\n",
    "totalmember_sex = sexgroup.sum()\n",
    "totalpositive_sex = sum(sexgroup[1::2])\n",
    "\n",
    "xplot = ['Amer-Indian-Eskimo', 'Asian-Pac-Islander', 'Black', 'Other', 'White']\n",
    "i = 0\n",
    "for race in xplot:\n",
    "    disparate_impact = racegroup[i + 1]/racegroup[i] / ((totalpositive_race - racegroup[i + 1]) / (totalmember_race - racegroup[i]))\n",
    "    print(\"Disparate Impact for \" + race + \": \" + str(disparate_impact))\n",
    "    i += 2\n",
    "\n",
    "xplot = ['Female', 'Male']\n",
    "i = 0\n",
    "for sex in xplot:\n",
    "    disparate_impact = sexgroup[i + 1]/sexgroup[i] / ((totalpositive_sex - sexgroup[i + 1]) / (totalmember_sex - sexgroup[i]))\n",
    "    print(\"Disparate Impact for \" + sex + \": \" + str(disparate_impact))\n",
    "    i += 2\n"
   ]
  },
  {
   "cell_type": "markdown",
   "metadata": {},
   "source": [
    "Predictions1 and Predictions2 Analysis"
   ]
  },
  {
   "cell_type": "code",
   "execution_count": 62,
   "metadata": {},
   "outputs": [
    {
     "data": {
      "image/png": "[encoded data removed]",
      "text/plain": [
       "<Figure size 432x288 with 1 Axes>"
      ]
     },
     "metadata": {
      "needs_background": "light"
     },
     "output_type": "display_data"
    },
    {
     "data": {
      "image/png": "[encoded data removed]",
      "text/plain": [
       "<Figure size 432x288 with 1 Axes>"
      ]
     },
     "metadata": {
      "needs_background": "light"
     },
     "output_type": "display_data"
    },
    {
     "data": {
      "image/png": "[encoded data removed]",
      "text/plain": [
       "<Figure size 432x288 with 1 Axes>"
      ]
     },
     "metadata": {
      "needs_background": "light"
     },
     "output_type": "display_data"
    },
    {
     "data": {
      "image/png": "[encoded data removed]",
      "text/plain": [
       "<Figure size 432x288 with 1 Axes>"
      ]
     },
     "metadata": {
      "needs_background": "light"
     },
     "output_type": "display_data"
    },
    {
     "data": {
      "image/png": "[encoded data removed]",
      "text/plain": [
       "<Figure size 432x288 with 1 Axes>"
      ]
     },
     "metadata": {
      "needs_background": "light"
     },
     "output_type": "display_data"
    },
    {
     "data": {
      "image/png": "[encoded data removed]",
      "text/plain": [
       "<Figure size 432x288 with 1 Axes>"
      ]
     },
     "metadata": {
      "needs_background": "light"
     },
     "output_type": "display_data"
    },
    {
     "data": {
      "image/png": "[encoded data removed]",
      "text/plain": [
       "<Figure size 432x288 with 1 Axes>"
      ]
     },
     "metadata": {
      "needs_background": "light"
     },
     "output_type": "display_data"
    },
    {
     "data": {
      "image/png": "[encoded data removed]",
      "text/plain": [
       "<Figure size 432x288 with 1 Axes>"
      ]
     },
     "metadata": {
      "needs_background": "light"
     },
     "output_type": "display_data"
    },
    {
     "name": "stdout",
     "output_type": "stream",
     "text": [
      "Prediction 1 Disparate Impact for Amer-Indian-Eskimo: 0.664630421502749\n",
      "Prediction 1 Disparate Impact for Asian-Pac-Islander: 1.5086515470751167\n",
      "Prediction 1 Disparate Impact for Black: 0.7042825062999272\n",
      "Prediction 1 Disparate Impact for Other: 0.5664930470846549\n",
      "Prediction 1 Disparate Impact for White: 5.877436853255651\n",
      "Prediction 1 Disparate Impact for Female: 0.5900722375544798\n",
      "Prediction 1 Disparate Impact for Male: 5.415569981985493\n",
      "Prediction 2 Disparate Impact for Amer-Indian-Eskimo: 0.7881319889061905\n",
      "Prediction 2 Disparate Impact for Asian-Pac-Islander: 1.5070039444843604\n",
      "Prediction 2 Disparate Impact for Black: 0.4710664162217619\n",
      "Prediction 2 Disparate Impact for Other: 0.7927561654890074\n",
      "Prediction 2 Disparate Impact for White: 7.581988207259689\n",
      "Prediction 2 Disparate Impact for Female: 0.7101421630567181\n",
      "Prediction 2 Disparate Impact for Male: 4.832223142778238\n"
     ]
    }
   ],
   "source": [
    "\n",
    "negative_amer = 0\n",
    "fp_amer = 0\n",
    "negative_asian = 0\n",
    "fp_asian = 0\n",
    "negative_black = 0\n",
    "fp_black = 0\n",
    "negative_white = 0\n",
    "fp_white = 0\n",
    "negative_other = 0\n",
    "fp_other = 0\n",
    "negative_male = 0\n",
    "fp_male = 0\n",
    "negative_female = 0\n",
    "fp_female = 0\n",
    "\n",
    "for index, row in income_data.iterrows():\n",
    "    if(row['race'] == ' Amer-Indian-Eskimo'):\n",
    "        if(row['income'] == ' <=50K'):\n",
    "            negative_amer += 1\n",
    "            if(row['predictions1']):\n",
    "                fp_amer += 1\n",
    "    if(row['race'] == ' Asian-Pac-Islander'):\n",
    "        if(row['income'] == ' <=50K'):\n",
    "            negative_asian += 1\n",
    "            if(row['predictions1']):\n",
    "                fp_asian += 1\n",
    "    if(row['race'] == ' Black'):\n",
    "        if(row['income'] == ' <=50K'):\n",
    "            negative_black += 1\n",
    "            if(row['predictions1']):\n",
    "                fp_black += 1\n",
    "    if(row['race'] == ' White'):\n",
    "        if(row['income'] == ' <=50K'):\n",
    "            negative_white += 1\n",
    "            if(row['predictions1']):\n",
    "                fp_white += 1\n",
    "    if(row['race'] == ' Other'):\n",
    "        if(row['income'] == ' <=50K'):\n",
    "            negative_other += 1\n",
    "            if(row['predictions1']):\n",
    "                fp_other += 1\n",
    "    if(row['sex'] == ' Male'):\n",
    "        if(row['income'] == ' <=50K'):\n",
    "            negative_male += 1\n",
    "            if(row['predictions1']):\n",
    "                fp_male += 1\n",
    "    if(row['sex'] == ' Female'):\n",
    "        if(row['income'] == ' <=50K'):\n",
    "            negative_female += 1\n",
    "            if(row['predictions1']):\n",
    "                fp_female += 1\n",
    "\n",
    "plt.clf()\n",
    "\n",
    "xplot = ['Amer-Indian-Eskimo', 'Asian-Pac-Islander', 'Black', 'White', 'Other']\n",
    "yplot = [fp_amer/negative_amer, fp_asian/negative_asian, fp_black/negative_black, fp_white/negative_white, fp_other/negative_other]\n",
    "import matplotlib.pyplot as plt\n",
    "plt.bar(xplot, yplot)\n",
    "plt.xticks(rotation=90)\n",
    "plt.title(\"False Positive Rate by Ethnicity Prediction 1\")\n",
    "plt.show()\n",
    "\n",
    "plt.clf()\n",
    "\n",
    "xplot = ['Male', 'Female']\n",
    "yplot = [fp_male/negative_male, fp_female/negative_female]\n",
    "plt.bar(xplot, yplot)\n",
    "plt.xticks(rotation=90)\n",
    "plt.title(\"False Positive Rate by Gender Prediction 1\")\n",
    "plt.show()\n",
    "\n",
    "positive_amer = 0\n",
    "fn_amer = 0\n",
    "positive_asian = 0\n",
    "fn_asian = 0\n",
    "positive_black = 0\n",
    "fn_black = 0\n",
    "positive_white = 0\n",
    "fn_white = 0\n",
    "positive_other = 0\n",
    "fn_other = 0\n",
    "positive_male = 0\n",
    "fn_male = 0\n",
    "positive_female = 0\n",
    "fn_female = 0\n",
    "\n",
    "for index, row in income_data.iterrows():\n",
    "    if(row['race'] == ' Amer-Indian-Eskimo'):\n",
    "        if(row['income'] != ' <=50K'):\n",
    "            positive_amer += 1\n",
    "            if(not row['predictions1']):\n",
    "                fn_amer += 1\n",
    "    if(row['race'] == ' Asian-Pac-Islander'):\n",
    "        if(row['income'] != ' <=50K'):\n",
    "            positive_asian += 1\n",
    "            if(not row['predictions1']):\n",
    "                fn_asian += 1\n",
    "    if(row['race'] == ' Black'):\n",
    "        if(row['income'] != ' <=50K'):\n",
    "            positive_black += 1\n",
    "            if(not row['predictions1']):\n",
    "                fn_black += 1\n",
    "    if(row['race'] == ' White'):\n",
    "        if(row['income'] != ' <=50K'):\n",
    "            positive_white += 1\n",
    "            if(not row['predictions1']):\n",
    "                fn_white += 1\n",
    "    if(row['race'] == ' Other'):\n",
    "        if(row['income'] != ' <=50K'):\n",
    "            positive_other += 1\n",
    "            if(not row['predictions1']):\n",
    "                fn_other += 1\n",
    "    if(row['sex'] == ' Male'):\n",
    "        if(row['income'] != ' <=50K'):\n",
    "            positive_male += 1\n",
    "            if(not row['predictions1']):\n",
    "                fn_male += 1\n",
    "    if(row['sex'] == ' Female'):\n",
    "        if(row['income'] != ' <=50K'):\n",
    "            positive_female += 1\n",
    "            if(not row['predictions1']):\n",
    "                fn_female += 1\n",
    "\n",
    "plt.clf()\n",
    "\n",
    "xplot = ['Amer-Indian-Eskimo', 'Asian-Pac-Islander', 'Black', 'White', 'Other']\n",
    "yplot = [fn_amer/positive_amer, fn_asian/positive_asian, fn_black/positive_black, fn_white/positive_white, fn_other/positive_other]\n",
    "import matplotlib.pyplot as plt\n",
    "plt.bar(xplot, yplot)\n",
    "plt.xticks(rotation=90)\n",
    "plt.title(\"False Negative Rate by Ethnicity Prediction 1\")\n",
    "plt.show()\n",
    "\n",
    "plt.clf()\n",
    "\n",
    "xplot = ['Male', 'Female']\n",
    "yplot = [fn_male/positive_male, fn_female/positive_female]\n",
    "plt.bar(xplot, yplot)\n",
    "plt.xticks(rotation=90)\n",
    "plt.title(\"False Negative Rate by Gender Prediction 1\")\n",
    "plt.show()\n",
    "\n",
    "\n",
    "\n",
    "negative_amer = 0\n",
    "fp_amer = 0\n",
    "negative_asian = 0\n",
    "fp_asian = 0\n",
    "negative_black = 0\n",
    "fp_black = 0\n",
    "negative_white = 0\n",
    "fp_white = 0\n",
    "negative_other = 0\n",
    "fp_other = 0\n",
    "negative_male = 0\n",
    "fp_male = 0\n",
    "negative_female = 0\n",
    "fp_female = 0\n",
    "\n",
    "for index, row in income_data.iterrows():\n",
    "    if(row['race'] == ' Amer-Indian-Eskimo'):\n",
    "        if(row['income'] == ' <=50K'):\n",
    "            negative_amer += 1\n",
    "            if(row['predictions2']):\n",
    "                fp_amer += 1\n",
    "    if(row['race'] == ' Asian-Pac-Islander'):\n",
    "        if(row['income'] == ' <=50K'):\n",
    "            negative_asian += 1\n",
    "            if(row['predictions2']):\n",
    "                fp_asian += 1\n",
    "    if(row['race'] == ' Black'):\n",
    "        if(row['income'] == ' <=50K'):\n",
    "            negative_black += 1\n",
    "            if(row['predictions2']):\n",
    "                fp_black += 1\n",
    "    if(row['race'] == ' White'):\n",
    "        if(row['income'] == ' <=50K'):\n",
    "            negative_white += 1\n",
    "            if(row['predictions2']):\n",
    "                fp_white += 1\n",
    "    if(row['race'] == ' Other'):\n",
    "        if(row['income'] == ' <=50K'):\n",
    "            negative_other += 1\n",
    "            if(row['predictions2']):\n",
    "                fp_other += 1\n",
    "    if(row['sex'] == ' Male'):\n",
    "        if(row['income'] == ' <=50K'):\n",
    "            negative_male += 1\n",
    "            if(row['predictions2']):\n",
    "                fp_male += 1\n",
    "    if(row['sex'] == ' Female'):\n",
    "        if(row['income'] == ' <=50K'):\n",
    "            negative_female += 1\n",
    "            if(row['predictions2']):\n",
    "                fp_female += 1\n",
    "\n",
    "plt.clf()\n",
    "\n",
    "xplot = ['Amer-Indian-Eskimo', 'Asian-Pac-Islander', 'Black', 'White', 'Other']\n",
    "yplot = [fp_amer/negative_amer, fp_asian/negative_asian, fp_black/negative_black, fp_white/negative_white, fp_other/negative_other]\n",
    "import matplotlib.pyplot as plt\n",
    "plt.bar(xplot, yplot)\n",
    "plt.xticks(rotation=90)\n",
    "plt.title(\"False Positive Rate by Ethnicity Prediction 2\")\n",
    "plt.show()\n",
    "\n",
    "plt.clf()\n",
    "\n",
    "xplot = ['Male', 'Female']\n",
    "yplot = [fp_male/negative_male, fp_female/negative_female]\n",
    "plt.bar(xplot, yplot)\n",
    "plt.xticks(rotation=90)\n",
    "plt.title(\"False Positive Rate by Gender Prediction 2\")\n",
    "plt.show()\n",
    "\n",
    "positive_amer = 0\n",
    "fn_amer = 0\n",
    "positive_asian = 0\n",
    "fn_asian = 0\n",
    "positive_black = 0\n",
    "fn_black = 0\n",
    "positive_white = 0\n",
    "fn_white = 0\n",
    "positive_other = 0\n",
    "fn_other = 0\n",
    "positive_male = 0\n",
    "fn_male = 0\n",
    "positive_female = 0\n",
    "fn_female = 0\n",
    "\n",
    "for index, row in income_data.iterrows():\n",
    "    if(row['race'] == ' Amer-Indian-Eskimo'):\n",
    "        if(row['income'] != ' <=50K'):\n",
    "            positive_amer += 1\n",
    "            if(not row['predictions2']):\n",
    "                fn_amer += 1\n",
    "    if(row['race'] == ' Asian-Pac-Islander'):\n",
    "        if(row['income'] != ' <=50K'):\n",
    "            positive_asian += 1\n",
    "            if(not row['predictions2']):\n",
    "                fn_asian += 1\n",
    "    if(row['race'] == ' Black'):\n",
    "        if(row['income'] != ' <=50K'):\n",
    "            positive_black += 1\n",
    "            if(not row['predictions2']):\n",
    "                fn_black += 1\n",
    "    if(row['race'] == ' White'):\n",
    "        if(row['income'] != ' <=50K'):\n",
    "            positive_white += 1\n",
    "            if(not row['predictions2']):\n",
    "                fn_white += 1\n",
    "    if(row['race'] == ' Other'):\n",
    "        if(row['income'] != ' <=50K'):\n",
    "            positive_other += 1\n",
    "            if(not row['predictions2']):\n",
    "                fn_other += 1\n",
    "    if(row['sex'] == ' Male'):\n",
    "        if(row['income'] != ' <=50K'):\n",
    "            positive_male += 1\n",
    "            if(not row['predictions2']):\n",
    "                fn_male += 1\n",
    "    if(row['sex'] == ' Female'):\n",
    "        if(row['income'] != ' <=50K'):\n",
    "            positive_female += 1\n",
    "            if(not row['predictions2']):\n",
    "                fn_female += 1\n",
    "\n",
    "plt.clf()\n",
    "\n",
    "xplot = ['Amer-Indian-Eskimo', 'Asian-Pac-Islander', 'Black', 'White', 'Other']\n",
    "yplot = [fn_amer/positive_amer, fn_asian/positive_asian, fn_black/positive_black, fn_white/positive_white, fn_other/positive_other]\n",
    "import matplotlib.pyplot as plt\n",
    "plt.bar(xplot, yplot)\n",
    "plt.xticks(rotation=90)\n",
    "plt.title(\"False Negative Rate by Ethnicity Prediction 2\")\n",
    "plt.show()\n",
    "\n",
    "plt.clf()\n",
    "\n",
    "xplot = ['Male', 'Female']\n",
    "yplot = [fn_male/positive_male, fn_female/positive_female]\n",
    "plt.bar(xplot, yplot)\n",
    "plt.xticks(rotation=90)\n",
    "plt.title(\"False Negative Rate by Gender Prediction 2\")\n",
    "plt.show()\n",
    "\n",
    "\n",
    "\n",
    "racegroup = income_data.groupby('race')['predictions1'].value_counts()\n",
    "sexgroup = income_data.groupby('sex')['predictions1'].value_counts()\n",
    "\n",
    "\n",
    "totalmember_race = racegroup.sum()\n",
    "totalpositive_race = sum(racegroup[1::2])\n",
    "totalmember_sex = sexgroup.sum()\n",
    "totalpositive_sex = sum(sexgroup[1::2])\n",
    "\n",
    "xplot = ['Amer-Indian-Eskimo', 'Asian-Pac-Islander', 'Black', 'Other', 'White']\n",
    "i = 0\n",
    "for race in xplot:\n",
    "    disparate_impact = racegroup[i + 1]/racegroup[i] / ((totalpositive_race - racegroup[i + 1]) / (totalmember_race - racegroup[i]))\n",
    "    print(\"Prediction 1 Disparate Impact for \" + race + \": \" + str(disparate_impact))\n",
    "    i += 2\n",
    "\n",
    "xplot = ['Female', 'Male']\n",
    "i = 0\n",
    "for sex in xplot:\n",
    "    disparate_impact = sexgroup[i + 1]/sexgroup[i] / ((totalpositive_sex - sexgroup[i + 1]) / (totalmember_sex - sexgroup[i]))\n",
    "    print(\"Prediction 1 Disparate Impact for \" + sex + \": \" + str(disparate_impact))\n",
    "    i += 2\n",
    "\n",
    "racegroup = income_data.groupby('race')['predictions2'].value_counts()\n",
    "sexgroup = income_data.groupby('sex')['predictions2'].value_counts()\n",
    "\n",
    "\n",
    "totalmember_race = racegroup.sum()\n",
    "totalpositive_race = sum(racegroup[1::2])\n",
    "totalmember_sex = sexgroup.sum()\n",
    "totalpositive_sex = sum(sexgroup[1::2])\n",
    "\n",
    "xplot = ['Amer-Indian-Eskimo', 'Asian-Pac-Islander', 'Black', 'Other', 'White']\n",
    "i = 0\n",
    "for race in xplot:\n",
    "    disparate_impact = racegroup[i + 1]/racegroup[i] / ((totalpositive_race - racegroup[i + 1]) / (totalmember_race - racegroup[i]))\n",
    "    print(\"Prediction 2 Disparate Impact for \" + race + \": \" + str(disparate_impact))\n",
    "    i += 2\n",
    "\n",
    "xplot = ['Female', 'Male']\n",
    "i = 0\n",
    "for sex in xplot:\n",
    "    disparate_impact = sexgroup[i + 1]/sexgroup[i] / ((totalpositive_sex - sexgroup[i + 1]) / (totalmember_sex - sexgroup[i]))\n",
    "    print(\"Prediction 2 Disparate Impact for \" + sex + \": \" + str(disparate_impact))\n",
    "    i += 2\n",
    "\n",
    "\n"
   ]
  },
  {
   "cell_type": "markdown",
   "metadata": {},
   "source": [
    "Intersectionality Comaprison between Black Female and White Male by comaparing FPR, FNR and disparate impact in outcomes"
   ]
  },
  {
   "cell_type": "code",
   "execution_count": 70,
   "metadata": {},
   "outputs": [
    {
     "data": {
      "image/png": "[encoded data removed]",
      "text/plain": [
       "<Figure size 432x288 with 1 Axes>"
      ]
     },
     "metadata": {
      "needs_background": "light"
     },
     "output_type": "display_data"
    },
    {
     "data": {
      "image/png": "[encoded data removed]",
      "text/plain": [
       "<Figure size 432x288 with 1 Axes>"
      ]
     },
     "metadata": {
      "needs_background": "light"
     },
     "output_type": "display_data"
    },
    {
     "name": "stdout",
     "output_type": "stream",
     "text": [
      "Disparate Impact for Black Female: 0.19238707628800505\n",
      "Disparate Impact for White Male: 5.197854342892511\n"
     ]
    }
   ],
   "source": [
    "negative_bf = 0\n",
    "fp_bf = 0\n",
    "negative_wm = 0\n",
    "fp_wm = 0\n",
    "i = 0\n",
    "\n",
    "for index, row in y_test.items():\n",
    "    if(income_data.at[index, 'race'] == ' Black' and income_data.at[index, 'sex'] == ' Female'):\n",
    "        if(not row):\n",
    "            negative_bf += 1\n",
    "            if(y_pred[i]):\n",
    "                fp_bf += 1\n",
    "    if(income_data.at[index, 'race'] == ' White' and income_data.at[index, 'sex'] == ' Male'):\n",
    "        if(not row):\n",
    "            negative_wm += 1\n",
    "            if(y_pred[i]):\n",
    "                fp_wm += 1\n",
    "\n",
    "    i += 1\n",
    "\n",
    "xplot = ['Black Female', 'White Male']\n",
    "yplot = [fp_bf/negative_bf, fp_wm/negative_wm]\n",
    "import matplotlib.pyplot as plt\n",
    "plt.bar(xplot, yplot)\n",
    "plt.xticks(rotation=90)\n",
    "plt.title(\"False Positive Rate by Intersection Group\")\n",
    "plt.show()\n",
    "\n",
    "\n",
    "positive_bf = 0\n",
    "fn_bf = 0\n",
    "positive_wm = 0\n",
    "fn_wm = 0\n",
    "i = 0\n",
    "\n",
    "for index, row in y_test.items():\n",
    "    if(income_data.at[index, 'race'] == ' Black' and income_data.at[index, 'sex'] == ' Female'):\n",
    "        if(row):\n",
    "            positive_bf += 1\n",
    "            if(not y_pred[i]):\n",
    "                fn_bf += 1\n",
    "    if(income_data.at[index, 'race'] == ' White' and income_data.at[index, 'sex'] == ' Male'):\n",
    "        if(row):\n",
    "            positive_wm += 1\n",
    "            if(not y_pred[i]):\n",
    "                fn_wm += 1\n",
    "    \n",
    "    i+= 1\n",
    "\n",
    "xplot = ['Black Female', 'White Male']\n",
    "yplot = [fn_bf/positive_bf, fn_wm/positive_wm]\n",
    "import matplotlib.pyplot as plt\n",
    "plt.bar(xplot, yplot)\n",
    "plt.xticks(rotation=90)\n",
    "plt.title(\"False Negative Rate by Intersection Group\")\n",
    "plt.show()\n",
    "\n",
    "\n",
    "intersectiongroup = preddf.groupby(['race', 'sex'])['income'].value_counts()\n",
    "bfprob = intersectiongroup[9] / (intersectiongroup[8] + intersectiongroup[9])\n",
    "wmprob = intersectiongroup[18] / (intersectiongroup[18] + intersectiongroup[19])\n",
    "print(\"Disparate Impact for Black Female: \" + str(bfprob/wmprob))\n",
    "print(\"Disparate Impact for White Male: \" + str(wmprob/bfprob))"
   ]
  }
 ],
 "metadata": {
  "interpreter": {
   "hash": "3d3ca84932549eddfd339c88ab8e4e4987ea4fa718fdf123be75130bce03fcbc"
  },
  "kernelspec": {
   "display_name": "Python 3.9.12 ('base')",
   "language": "python",
   "name": "python3"
  },
  "language_info": {
   "codemirror_mode": {
    "name": "ipython",
    "version": 3
   },
   "file_extension": ".py",
   "mimetype": "text/x-python",
   "name": "python",
   "nbconvert_exporter": "python",
   "pygments_lexer": "ipython3",
   "version": "3.9.12"
  },
  "orig_nbformat": 4
 },
 "nbformat": 4,
 "nbformat_minor": 2
}
